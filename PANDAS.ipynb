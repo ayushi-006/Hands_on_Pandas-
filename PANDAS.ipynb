{
  "nbformat": 4,
  "nbformat_minor": 0,
  "metadata": {
    "colab": {
      "provenance": [],
      "authorship_tag": "ABX9TyNTyo0r7BHZ/TO0g727c3zb",
      "include_colab_link": true
    },
    "kernelspec": {
      "name": "python3",
      "display_name": "Python 3"
    },
    "language_info": {
      "name": "python"
    }
  },
  "cells": [
    {
      "cell_type": "markdown",
      "metadata": {
        "id": "view-in-github",
        "colab_type": "text"
      },
      "source": [
        "<a href=\"https://colab.research.google.com/github/ayushi-006/Hands_on_Pandas-/blob/main/PANDAS.ipynb\" target=\"_parent\"><img src=\"https://colab.research.google.com/assets/colab-badge.svg\" alt=\"Open In Colab\"/></a>"
      ]
    },
    {
      "cell_type": "markdown",
      "source": [
        "\n",
        "#PANDAS\n",
        "pandas is a versatile python library that is maily used to simplify the task of data manipulation.\n",
        "Pandas lib is primarily used in conjunction with other libraries which are used for DataScience\n",
        "\n",
        "##Things we can do by the help of PANDAS\n",
        "\n",
        "*  Data set cleaning, merging, and joining\n",
        "*  Easy handling of missing data.\n",
        "*  Columns can be inserted and deleted from DataFrame and higher-dimensional\n",
        "   objects.\n",
        "*  Powerful group by functionality for performing split-apply-combine    \n",
        "   operations on data sets.\n",
        "*  Data Visualization."
      ],
      "metadata": {
        "id": "NVSzGOFMlfFQ"
      }
    },
    {
      "cell_type": "markdown",
      "source": [
        "The primary Data Structure in ***pandas*** are implemented in two classes\n",
        "*  **DataFrame** :  Two-dimensional data structure with labeled axes, DF can be\n",
        "      created using lists, dictionary etc.\n",
        "*  **Series** :  One-dimensional array-like object that can hold data of any\n",
        "      type. Series is a basic building block of python DataFrame."
      ],
      "metadata": {
        "id": "LKKymcwymzDr"
      }
    },
    {
      "cell_type": "markdown",
      "source": [
        "``` Import Pandas library```"
      ],
      "metadata": {
        "id": "1mjb8CzKpeJx"
      }
    },
    {
      "cell_type": "code",
      "source": [
        "import pandas as pd\n",
        "pd.__version__"
      ],
      "metadata": {
        "colab": {
          "base_uri": "https://localhost:8080/",
          "height": 36
        },
        "id": "y7IZG7lHldQs",
        "outputId": "77a8866b-6470-48a4-e67a-88392e80a5ba"
      },
      "execution_count": 5,
      "outputs": [
        {
          "output_type": "execute_result",
          "data": {
            "text/plain": [
              "'2.0.3'"
            ],
            "application/vnd.google.colaboratory.intrinsic+json": {
              "type": "string"
            }
          },
          "metadata": {},
          "execution_count": 5
        }
      ]
    },
    {
      "cell_type": "markdown",
      "source": [
        "```we are currently working on **Pandas version 2.0.3**```"
      ],
      "metadata": {
        "id": "gXWUwvltqFem"
      }
    },
    {
      "cell_type": "markdown",
      "source": [],
      "metadata": {
        "id": "NuqzsN2Xlceu"
      }
    },
    {
      "cell_type": "code",
      "execution_count": null,
      "metadata": {
        "id": "ONm0dLHzlHLN"
      },
      "outputs": [],
      "source": []
    }
  ]
}